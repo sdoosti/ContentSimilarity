{
 "cells": [
  {
   "cell_type": "markdown",
   "metadata": {},
   "source": [
    "## Calculate Content Similarity (Aug 16, 2024)\n",
    "\n",
    "In this file, I incorporate sponsor description and video labels.\n",
    "The similarity is calculated directly using the embedding vectors from google text embedding model with no topic model."
   ]
  },
  {
   "cell_type": "code",
   "execution_count": 1,
   "metadata": {},
   "outputs": [],
   "source": [
    "import pandas as pd\n",
    "import numpy as np\n",
    "import os\n",
    "import pickle\n",
    "from sklearn.metrics.pairwise import cosine_similarity"
   ]
  },
  {
   "cell_type": "code",
   "execution_count": 11,
   "metadata": {},
   "outputs": [
    {
     "name": "stdout",
     "output_type": "stream",
     "text": [
      "Combined data size: 38077\n",
      "Sponsored videos size: 34028\n",
      "Sponsors size: 4049\n",
      "Sponsored videos with labels size: 9519\n",
      "Embeddings size: 38077\n",
      "Embeddings size (vca): 9519\n"
     ]
    }
   ],
   "source": [
    "PATH = \"/home/doosti@chapman.edu/projects/Facebook/top2vec/data/\"\n",
    "# import data\n",
    "data = pd.read_csv(os.path.join(PATH, \"vca_combined_2024-08-13.csv\"))\n",
    "print(f\"Combined data size: {data.shape[0]}\")\n",
    "# sponsored videos\n",
    "sponsored = pd.read_csv(os.path.join(PATH, \"sponsored_videos_data.csv\"))\n",
    "print(f\"Sponsored videos size: {sponsored.shape[0]}\")\n",
    "# sponsors\n",
    "sponsors = pd.read_csv(os.path.join(PATH, \"sponsor_description.csv\"))\n",
    "print(f\"Sponsors size: {sponsors.shape[0]}\")\n",
    "sponsored_vca = sponsored[sponsored.labels.notnull()].copy()\n",
    "print(f\"Sponsored videos with labels size: {sponsored_vca.shape[0]}\")\n",
    "with open(os.path.join(PATH, \"embeddings.pkl\"), \"rb\") as f:\n",
    "    embeddings = pickle.load(f)\n",
    "print(f\"Embeddings size: {len(embeddings)}\")\n",
    "with open(os.path.join(PATH, \"embeddings_vca.pkl\"), \"rb\") as f:\n",
    "    embeddings_vca = pickle.load(f)\n",
    "print(f\"Embeddings size (vca): {len(embeddings_vca)}\")"
   ]
  },
  {
   "cell_type": "code",
   "execution_count": 12,
   "metadata": {},
   "outputs": [],
   "source": [
    "sponsors['embeddings'] = embeddings[:sponsors.shape[0]]\n",
    "sponsored_vca['embeddings'] = embeddings_vca"
   ]
  },
  {
   "cell_type": "code",
   "execution_count": 16,
   "metadata": {},
   "outputs": [
    {
     "data": {
      "text/plain": [
       "sponsor_id              216\n",
       "sponsor_name              0\n",
       "sponsor_description       0\n",
       "sponsor_themes         2222\n",
       "text                      0\n",
       "embeddings                0\n",
       "dtype: int64"
      ]
     },
     "execution_count": 16,
     "metadata": {},
     "output_type": "execute_result"
    }
   ],
   "source": [
    "sponsors.isnull().sum()"
   ]
  },
  {
   "cell_type": "code",
   "execution_count": 21,
   "metadata": {},
   "outputs": [
    {
     "data": {
      "text/plain": [
       "(9457, 6)"
      ]
     },
     "execution_count": 21,
     "metadata": {},
     "output_type": "execute_result"
    }
   ],
   "source": [
    "sponsored_vca[['sponsor_name']].merge(sponsors, on='sponsor_name', how='inner').shape"
   ]
  },
  {
   "cell_type": "code",
   "execution_count": 22,
   "metadata": {},
   "outputs": [
    {
     "name": "stdout",
     "output_type": "stream",
     "text": [
      "video_id                 0\n",
      "new_id                   0\n",
      "creator_id               0\n",
      "creator_name             0\n",
      "sponsor_id               4\n",
      "sponsor_name             0\n",
      "title_description        0\n",
      "topics                5765\n",
      "labels                   0\n",
      "labels2                  0\n",
      "transcript            5035\n",
      "text                     0\n",
      "embeddings               0\n",
      "sponsor_embeddings      62\n",
      "dtype: int64\n"
     ]
    }
   ],
   "source": [
    "# find the sponsor embedding for each sponsored video\n",
    "sponsored_vca['sponsor_embeddings'] = sponsored_vca[['sponsor_name']].merge(sponsors, on='sponsor_name', how='left')['embeddings'].values\n",
    "print(sponsored_vca.isnull().sum())"
   ]
  },
  {
   "cell_type": "code",
   "execution_count": 23,
   "metadata": {},
   "outputs": [],
   "source": [
    "# function to find similar sponsors\n",
    "def find_similar_sponsors(sponsor_name, n=5):\n",
    "    sponsor_embedding = sponsors[sponsors['sponsor_name']==sponsor_name]['embeddings'].values[0]\n",
    "    cosine_sim = cosine_similarity([sponsor_embedding], sponsors['embeddings'].tolist())\n",
    "    similar_sponsors = sponsors.iloc[np.argsort(cosine_sim[0])[-n-1:-1]]['sponsor_name'].values\n",
    "    return list(zip(similar_sponsors[::-1], np.sort(cosine_sim[0])[-n-1:-1][::-1]))"
   ]
  },
  {
   "cell_type": "code",
   "execution_count": 24,
   "metadata": {},
   "outputs": [
    {
     "name": "stdout",
     "output_type": "stream",
     "text": [
      "Sample sponsor: Gap\n",
      "Gap Inc.                       | 0.80\n",
      "Tory Burch                     | 0.71\n",
      "Old Navy                       | 0.70\n",
      "JCPenney                       | 0.69\n",
      "ELLE Magazine (US)             | 0.67\n",
      "Electro Threads                | 0.66\n",
      "Cotton                         | 0.66\n",
      "Victoria's Secret PINK         | 0.66\n",
      "Chico's                        | 0.65\n",
      "American Eagle                 | 0.65\n"
     ]
    }
   ],
   "source": [
    "sponsor_sample = sponsors.sample(1)['sponsor_name'].values[0]\n",
    "print(f\"Sample sponsor: {sponsor_sample}\")\n",
    "for (sim_sponsor, score) in find_similar_sponsors(sponsor_sample, n=10):\n",
    "    # print the score with 2 decimal points\n",
    "    print(f\"{sim_sponsor:30s} | {score:.2f}\")\n"
   ]
  },
  {
   "cell_type": "code",
   "execution_count": 27,
   "metadata": {},
   "outputs": [
    {
     "name": "stdout",
     "output_type": "stream",
     "text": [
      "Sample sponsor: CheapOair\n",
      "Similar videos:\n",
      "What gets you outdoors?! Nearl..., Drury Outdoors                , Cabela's                       | 0.61\n",
      "We're going going, back back, ..., Carolina Panthers             , PRIMESPORT                     | 0.61\n",
      "The Runner Debrief: Mat Pat im..., We Are The Mighty             , The Runner go90                | 0.61\n",
      "Katy Perry Bursts Our Bubbles ..., Billboard                     , American Airlines              | 0.60\n",
      "Top 5 Reasons to Share the Rin..., Crypt TV                      , Rings Movie                    | 0.60\n"
     ]
    }
   ],
   "source": [
    "# function to find similar sponsors\n",
    "def find_similar_videos(sponsor_name, n=5):\n",
    "    sponsor_embedding = sponsors[sponsors['sponsor_name']==sponsor_name]['embeddings'].values[0]\n",
    "    cosine_sim = cosine_similarity([sponsor_embedding], sponsored_vca['embeddings'].tolist())\n",
    "    similar_videos = sponsored_vca.iloc[np.argsort(cosine_sim[0])[-n-1:-1]][['title_description','creator_name','sponsor_name']].values\n",
    "    return list(zip(similar_videos[::-1], np.sort(cosine_sim[0])[-n-1:-1][::-1]))\n",
    "\n",
    "sponsor_sample = sponsors.sample(1)['sponsor_name'].values[0]\n",
    "\n",
    "print(f\"Sample sponsor: {sponsor_sample}\")\n",
    "print(\"Similar videos:\")\n",
    "for (sim_vid, score) in find_similar_videos(sponsor_sample, n=5):\n",
    "    print(f\"{sim_vid[0][:30]:30s}..., {sim_vid[1]:30s}, {sim_vid[2][:30]:30} | {score:.2f}\")"
   ]
  },
  {
   "cell_type": "code",
   "execution_count": 30,
   "metadata": {},
   "outputs": [
    {
     "name": "stdout",
     "output_type": "stream",
     "text": [
      "Sample video: 10154133578596464, Southern Living, IKEA\n",
      "Similar sponsors:\n",
      "Lone Star Percussion          ... | 0.65\n",
      "Texas Pete Hot Sauce          ... | 0.64\n",
      "DoubleTree by Hilton          ... | 0.63\n",
      "Woodwind & Brasswind          ... | 0.63\n",
      "BET                           ... | 0.62\n"
     ]
    }
   ],
   "source": [
    "# find sponsor for a sample video\n",
    "def find_similar_sponsor(video_id, n=5):\n",
    "    embedding = sponsored_vca[sponsored_vca['video_id']==video_id]['embeddings'].values[0]\n",
    "    cosine_sim = cosine_similarity([embedding], sponsors['embeddings'].tolist())\n",
    "    similar_sponsors = sponsors.iloc[np.argsort(cosine_sim[0])[-n-1:-1]][['sponsor_name']].values\n",
    "    return list(zip(similar_sponsors[::-1], np.sort(cosine_sim[0])[-n-1:-1][::-1]))\n",
    "\n",
    "video_sample = sponsored_vca.sample(1)['video_id'].values[0]\n",
    "creator_name = sponsored_vca[sponsored_vca['video_id']==video_sample]['creator_name'].values[0]\n",
    "sponsor_name = sponsored_vca[sponsored_vca['video_id']==video_sample]['sponsor_name'].values[0]\n",
    "\n",
    "print(f\"Sample video: {video_sample}, {creator_name}, {sponsor_name}\")\n",
    "print(\"Similar sponsors:\")\n",
    "for (sim, score) in find_similar_sponsor(video_sample, n=5):\n",
    "    print(f\"{sim[0][:30]:30s}... | {score:.2f}\")"
   ]
  },
  {
   "cell_type": "code",
   "execution_count": 31,
   "metadata": {},
   "outputs": [],
   "source": [
    "# calculate cosine similarity between a document and a creator\n",
    "def get_sponsorship_similarity(document_vector, creator_embedding):\n",
    "    if type(creator_embedding) != np.ndarray:\n",
    "        return np.nan\n",
    "    return cosine_similarity([document_vector], [creator_embedding])[0][0]"
   ]
  },
  {
   "cell_type": "code",
   "execution_count": 32,
   "metadata": {},
   "outputs": [
    {
     "name": "stderr",
     "output_type": "stream",
     "text": [
      "/home/doosti@chapman.edu/.conda/envs/gemeni/lib/python3.12/site-packages/tqdm/auto.py:21: TqdmWarning: IProgress not found. Please update jupyter and ipywidgets. See https://ipywidgets.readthedocs.io/en/stable/user_install.html\n",
      "  from .autonotebook import tqdm as notebook_tqdm\n",
      "  1%|▏         | 131/9519 [00:00<00:07, 1307.73it/s]"
     ]
    },
    {
     "name": "stderr",
     "output_type": "stream",
     "text": [
      "100%|██████████| 9519/9519 [00:06<00:00, 1478.13it/s]"
     ]
    },
    {
     "name": "stdout",
     "output_type": "stream",
     "text": [
      "count    9457.000000\n",
      "mean        0.513269\n",
      "std         0.083727\n",
      "min         0.325400\n",
      "25%         0.445398\n",
      "50%         0.503910\n",
      "75%         0.577432\n",
      "max         0.789858\n",
      "Name: sponsorship_similarity, dtype: float64\n",
      "62\n"
     ]
    },
    {
     "name": "stderr",
     "output_type": "stream",
     "text": [
      "\n"
     ]
    }
   ],
   "source": [
    "from tqdm.auto import tqdm\n",
    "tqdm.pandas()\n",
    "\n",
    "sponsored_vca['sponsorship_similarity'] = sponsored_vca.progress_apply(lambda x: get_sponsorship_similarity(x['embeddings'], x['sponsor_embeddings']), axis=1).values\n",
    "\n",
    "print(sponsored_vca.sponsorship_similarity.describe())\n",
    "print(sponsored_vca.sponsorship_similarity.isnull().sum())"
   ]
  },
  {
   "cell_type": "code",
   "execution_count": 35,
   "metadata": {},
   "outputs": [],
   "source": [
    "#save the data\n",
    "sponsored_vca[['video_id','new_id','creator_id','creator_name','sponsor_id','sponsor_name','sponsorship_similarity']].to_csv(os.path.join(PATH, \"sponsored_vca_aug2024_v3.csv\"), index=False)"
   ]
  },
  {
   "cell_type": "code",
   "execution_count": 176,
   "metadata": {},
   "outputs": [],
   "source": [
    "sponsored['include_vca'] = sponsored.labels.notnull().astype(int)\n",
    "sponsored['include_topics'] = sponsored.topics.notnull().astype(int)\n",
    "sponsored['include_transcript'] = sponsored.transcript.notnull().astype(int)\n",
    "#sponsored[['video_id','new_id','creator_id','creator_name','sponsor_id','sponsor_name','sponsorship_similarity','include_vca','include_topics','include_transcript']].to_csv(os.path.join(PATH, \"sponsored_vca_aug2024_v2.csv\"), index=False)"
   ]
  }
 ],
 "metadata": {
  "kernelspec": {
   "display_name": "gemeni",
   "language": "python",
   "name": "python3"
  },
  "language_info": {
   "codemirror_mode": {
    "name": "ipython",
    "version": 3
   },
   "file_extension": ".py",
   "mimetype": "text/x-python",
   "name": "python",
   "nbconvert_exporter": "python",
   "pygments_lexer": "ipython3",
   "version": "3.12.5"
  }
 },
 "nbformat": 4,
 "nbformat_minor": 2
}
