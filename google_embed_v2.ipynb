{
 "cells": [
  {
   "cell_type": "code",
   "execution_count": 1,
   "metadata": {},
   "outputs": [
    {
     "name": "stderr",
     "output_type": "stream",
     "text": [
      "/home/doosti@chapman.edu/.conda/envs/gemeni/lib/python3.12/site-packages/tqdm/auto.py:21: TqdmWarning: IProgress not found. Please update jupyter and ipywidgets. See https://ipywidgets.readthedocs.io/en/stable/user_install.html\n",
      "  from .autonotebook import tqdm as notebook_tqdm\n"
     ]
    }
   ],
   "source": [
    "import google.generativeai as genai\n",
    "import os\n",
    "\n",
    "genai.configure(api_key=API_KEY)\n",
    "\n",
    "model = genai.GenerativeModel('gemini-1.5-flash')"
   ]
  },
  {
   "cell_type": "code",
   "execution_count": 2,
   "metadata": {},
   "outputs": [],
   "source": [
    "from tqdm.auto import tqdm\n",
    "import pandas as pd\n",
    "import numpy as np\n",
    "tqdm.pandas()"
   ]
  },
  {
   "cell_type": "code",
   "execution_count": 3,
   "metadata": {},
   "outputs": [
    {
     "data": {
      "text/html": [
       "<div>\n",
       "<style scoped>\n",
       "    .dataframe tbody tr th:only-of-type {\n",
       "        vertical-align: middle;\n",
       "    }\n",
       "\n",
       "    .dataframe tbody tr th {\n",
       "        vertical-align: top;\n",
       "    }\n",
       "\n",
       "    .dataframe thead th {\n",
       "        text-align: right;\n",
       "    }\n",
       "</style>\n",
       "<table border=\"1\" class=\"dataframe\">\n",
       "  <thead>\n",
       "    <tr style=\"text-align: right;\">\n",
       "      <th></th>\n",
       "      <th>video_id</th>\n",
       "      <th>new_id</th>\n",
       "      <th>creator_id</th>\n",
       "      <th>creator_name</th>\n",
       "      <th>sponsor_id</th>\n",
       "      <th>sponsor_name</th>\n",
       "      <th>title_description</th>\n",
       "      <th>topics</th>\n",
       "      <th>labels</th>\n",
       "      <th>labels2</th>\n",
       "      <th>transcript</th>\n",
       "      <th>text</th>\n",
       "    </tr>\n",
       "  </thead>\n",
       "  <tbody>\n",
       "    <tr>\n",
       "      <th>0</th>\n",
       "      <td>3630692966420</td>\n",
       "      <td>3630692966420</td>\n",
       "      <td>EqB7bWPKAq</td>\n",
       "      <td>Axios</td>\n",
       "      <td>HLchLkbYxo</td>\n",
       "      <td>GE</td>\n",
       "      <td>Thanks to 9 sq miles of solar panels and the o...</td>\n",
       "      <td>NaN</td>\n",
       "      <td>NaN</td>\n",
       "      <td>NaN</td>\n",
       "      <td>NaN</td>\n",
       "      <td>thanks to 9 sq miles of solar panels and the o...</td>\n",
       "    </tr>\n",
       "    <tr>\n",
       "      <th>1</th>\n",
       "      <td>4113787925913</td>\n",
       "      <td>4113787925913</td>\n",
       "      <td>OhoPnkQZgz</td>\n",
       "      <td>Vanity Fair</td>\n",
       "      <td>UwAcLwRAua</td>\n",
       "      <td>Louis Vuitton Official</td>\n",
       "      <td>Explore the world of Masters Take a look at on...</td>\n",
       "      <td>Louis Vuitton;Jeff Koons;Vanity Fair</td>\n",
       "      <td>NaN</td>\n",
       "      <td>NaN</td>\n",
       "      <td>NaN</td>\n",
       "      <td>explore the world of masters take a look at on...</td>\n",
       "    </tr>\n",
       "    <tr>\n",
       "      <th>2</th>\n",
       "      <td>126993937922265</td>\n",
       "      <td>126993937922265</td>\n",
       "      <td>2oENn5je9B</td>\n",
       "      <td>Major League Soccer (MLS)</td>\n",
       "      <td>1FhTxAR4dc</td>\n",
       "      <td>Continental Tire</td>\n",
       "      <td>ExtraTime Live: Transfer Window winners Who we...</td>\n",
       "      <td>NaN</td>\n",
       "      <td>['presentation', 'text']</td>\n",
       "      <td>['font', 'graphics', 'logo', 'news conference'...</td>\n",
       "      <td>NaN</td>\n",
       "      <td>extratime live: transfer window winners who we...</td>\n",
       "    </tr>\n",
       "    <tr>\n",
       "      <th>3</th>\n",
       "      <td>161554750989183</td>\n",
       "      <td>161554750989183</td>\n",
       "      <td>4G5GeWxsA8</td>\n",
       "      <td>Animal Planet</td>\n",
       "      <td>7fDtbKPniI</td>\n",
       "      <td>Animal Nation with Anthony Anderson</td>\n",
       "      <td>Find out why Anthony Anderson wanted to host a...</td>\n",
       "      <td>NaN</td>\n",
       "      <td>NaN</td>\n",
       "      <td>NaN</td>\n",
       "      <td>NaN</td>\n",
       "      <td>find out why anthony anderson wanted to host a...</td>\n",
       "    </tr>\n",
       "    <tr>\n",
       "      <th>4</th>\n",
       "      <td>162004174373759</td>\n",
       "      <td>162004174373759</td>\n",
       "      <td>W6ddNwouXN</td>\n",
       "      <td>MotoGP eSport</td>\n",
       "      <td>ya7I3ARgDC</td>\n",
       "      <td>Casa Tarradellas - PÃÂ¡gina Oficial</td>\n",
       "      <td>Challenge #1 fastest lap Watch the fastest lap...</td>\n",
       "      <td>Grand Prix motorcycle racing;Fastest lap;Video...</td>\n",
       "      <td>NaN</td>\n",
       "      <td>NaN</td>\n",
       "      <td>NaN</td>\n",
       "      <td>challenge #1 fastest lap watch the fastest lap...</td>\n",
       "    </tr>\n",
       "  </tbody>\n",
       "</table>\n",
       "</div>"
      ],
      "text/plain": [
       "          video_id           new_id  creator_id               creator_name  \\\n",
       "0    3630692966420    3630692966420  EqB7bWPKAq                      Axios   \n",
       "1    4113787925913    4113787925913  OhoPnkQZgz                Vanity Fair   \n",
       "2  126993937922265  126993937922265  2oENn5je9B  Major League Soccer (MLS)   \n",
       "3  161554750989183  161554750989183  4G5GeWxsA8              Animal Planet   \n",
       "4  162004174373759  162004174373759  W6ddNwouXN              MotoGP eSport   \n",
       "\n",
       "   sponsor_id                          sponsor_name  \\\n",
       "0  HLchLkbYxo                                    GE   \n",
       "1  UwAcLwRAua                Louis Vuitton Official   \n",
       "2  1FhTxAR4dc                      Continental Tire   \n",
       "3  7fDtbKPniI   Animal Nation with Anthony Anderson   \n",
       "4  ya7I3ARgDC  Casa Tarradellas - PÃÂ¡gina Oficial   \n",
       "\n",
       "                                   title_description  \\\n",
       "0  Thanks to 9 sq miles of solar panels and the o...   \n",
       "1  Explore the world of Masters Take a look at on...   \n",
       "2  ExtraTime Live: Transfer Window winners Who we...   \n",
       "3  Find out why Anthony Anderson wanted to host a...   \n",
       "4  Challenge #1 fastest lap Watch the fastest lap...   \n",
       "\n",
       "                                              topics  \\\n",
       "0                                                NaN   \n",
       "1               Louis Vuitton;Jeff Koons;Vanity Fair   \n",
       "2                                                NaN   \n",
       "3                                                NaN   \n",
       "4  Grand Prix motorcycle racing;Fastest lap;Video...   \n",
       "\n",
       "                     labels  \\\n",
       "0                       NaN   \n",
       "1                       NaN   \n",
       "2  ['presentation', 'text']   \n",
       "3                       NaN   \n",
       "4                       NaN   \n",
       "\n",
       "                                             labels2 transcript  \\\n",
       "0                                                NaN        NaN   \n",
       "1                                                NaN        NaN   \n",
       "2  ['font', 'graphics', 'logo', 'news conference'...        NaN   \n",
       "3                                                NaN        NaN   \n",
       "4                                                NaN        NaN   \n",
       "\n",
       "                                                text  \n",
       "0  thanks to 9 sq miles of solar panels and the o...  \n",
       "1  explore the world of masters take a look at on...  \n",
       "2  extratime live: transfer window winners who we...  \n",
       "3  find out why anthony anderson wanted to host a...  \n",
       "4  challenge #1 fastest lap watch the fastest lap...  "
      ]
     },
     "execution_count": 3,
     "metadata": {},
     "output_type": "execute_result"
    }
   ],
   "source": [
    "data = pd.read_csv('~/projects/Facebook/top2vec/data/sponsored_videos_data.csv')\n",
    "data.head()"
   ]
  },
  {
   "cell_type": "code",
   "execution_count": 4,
   "metadata": {},
   "outputs": [
    {
     "name": "stdout",
     "output_type": "stream",
     "text": [
      "models/embedding-001\n",
      "models/text-embedding-004\n"
     ]
    }
   ],
   "source": [
    "for m in genai.list_models():\n",
    "    if 'embedContent' in m.supported_generation_methods:\n",
    "        print(m.name)"
   ]
  },
  {
   "cell_type": "code",
   "execution_count": 5,
   "metadata": {},
   "outputs": [],
   "source": [
    "from google.api_core import retry\n",
    "\n",
    "def make_embed_text_fn(model):\n",
    "\n",
    "    @retry.Retry(timeout=300.0)\n",
    "    def embed_fn(text: str) -> list[float]:\n",
    "        # Set the task_type to CLUSTERING.\n",
    "        embedding = genai.embed_content(model=model,\n",
    "                                        content=text,\n",
    "                                        task_type=\"SEMANTIC_SIMILARITY\")['embedding']\n",
    "        return np.array(embedding)\n",
    "\n",
    "    return embed_fn\n",
    "\n",
    "def create_embeddings(df):\n",
    "    model = 'models/text-embedding-004'\n",
    "    return df['text'].progress_apply(make_embed_text_fn(model)).tolist()"
   ]
  },
  {
   "cell_type": "code",
   "execution_count": 33,
   "metadata": {},
   "outputs": [
    {
     "data": {
      "text/html": [
       "<div>\n",
       "<style scoped>\n",
       "    .dataframe tbody tr th:only-of-type {\n",
       "        vertical-align: middle;\n",
       "    }\n",
       "\n",
       "    .dataframe tbody tr th {\n",
       "        vertical-align: top;\n",
       "    }\n",
       "\n",
       "    .dataframe thead th {\n",
       "        text-align: right;\n",
       "    }\n",
       "</style>\n",
       "<table border=\"1\" class=\"dataframe\">\n",
       "  <thead>\n",
       "    <tr style=\"text-align: right;\">\n",
       "      <th></th>\n",
       "      <th>labels</th>\n",
       "      <th>labels2</th>\n",
       "      <th>topics</th>\n",
       "      <th>text</th>\n",
       "    </tr>\n",
       "  </thead>\n",
       "  <tbody>\n",
       "    <tr>\n",
       "      <th>23845</th>\n",
       "      <td>['ball game', 'baseball field', 'sport venue',...</td>\n",
       "      <td>['player', 'sign', 'trademark', 'signage', 'ba...</td>\n",
       "      <td>NaN</td>\n",
       "      <td>team sport emblem banner ball game graphics si...</td>\n",
       "    </tr>\n",
       "    <tr>\n",
       "      <th>19578</th>\n",
       "      <td>['graphics', 'brand', 'graphic design', 'text'...</td>\n",
       "      <td>['font', 'logo', 'graphics', 'brand', 'graphic...</td>\n",
       "      <td>Bleacher Report;Terrelle Pryor</td>\n",
       "      <td>font graphics logo graphic design terrelle pry...</td>\n",
       "    </tr>\n",
       "    <tr>\n",
       "      <th>9367</th>\n",
       "      <td>['ball game', 'protective gear in sports', 'so...</td>\n",
       "      <td>['team sport', 'sports', 'football helmet', 'f...</td>\n",
       "      <td>NaN</td>\n",
       "      <td>soccer team sport football helmet ball game am...</td>\n",
       "    </tr>\n",
       "    <tr>\n",
       "      <th>2155</th>\n",
       "      <td>['physician']</td>\n",
       "      <td>['ankle', 'cream', 'solution', 'song', 'physic...</td>\n",
       "      <td>NaN</td>\n",
       "      <td>physician hat cream cosmetics hair thumb water...</td>\n",
       "    </tr>\n",
       "    <tr>\n",
       "      <th>32685</th>\n",
       "      <td>['dish', 'recipe', 'food', 'cooking', 'song']</td>\n",
       "      <td>['dish', 'snack', 'dessert', 'song', 'animatio...</td>\n",
       "      <td>NaN</td>\n",
       "      <td>dessert baking advertising ice cream animation...</td>\n",
       "    </tr>\n",
       "  </tbody>\n",
       "</table>\n",
       "</div>"
      ],
      "text/plain": [
       "                                                  labels  \\\n",
       "23845  ['ball game', 'baseball field', 'sport venue',...   \n",
       "19578  ['graphics', 'brand', 'graphic design', 'text'...   \n",
       "9367   ['ball game', 'protective gear in sports', 'so...   \n",
       "2155                                       ['physician']   \n",
       "32685      ['dish', 'recipe', 'food', 'cooking', 'song']   \n",
       "\n",
       "                                                 labels2  \\\n",
       "23845  ['player', 'sign', 'trademark', 'signage', 'ba...   \n",
       "19578  ['font', 'logo', 'graphics', 'brand', 'graphic...   \n",
       "9367   ['team sport', 'sports', 'football helmet', 'f...   \n",
       "2155   ['ankle', 'cream', 'solution', 'song', 'physic...   \n",
       "32685  ['dish', 'snack', 'dessert', 'song', 'animatio...   \n",
       "\n",
       "                               topics  \\\n",
       "23845                             NaN   \n",
       "19578  Bleacher Report;Terrelle Pryor   \n",
       "9367                              NaN   \n",
       "2155                              NaN   \n",
       "32685                             NaN   \n",
       "\n",
       "                                                    text  \n",
       "23845  team sport emblem banner ball game graphics si...  \n",
       "19578  font graphics logo graphic design terrelle pry...  \n",
       "9367   soccer team sport football helmet ball game am...  \n",
       "2155   physician hat cream cosmetics hair thumb water...  \n",
       "32685  dessert baking advertising ice cream animation...  "
      ]
     },
     "execution_count": 33,
     "metadata": {},
     "output_type": "execute_result"
    }
   ],
   "source": [
    "# create text column\n",
    "import ast\n",
    "vca = data[data.labels.notnull()].copy()\n",
    "text = []\n",
    "for i, row in vca.iterrows():\n",
    "    labels = ast.literal_eval(row['labels'])\n",
    "    labels2 = ast.literal_eval(row['labels2'])\n",
    "    if type(row['topics'])!=str:\n",
    "        topics = []\n",
    "    else:\n",
    "        topics = row['topics'].lower().split(';')\n",
    "    text_set = set(labels + labels2 + topics)\n",
    "    text.append(\" \".join(list(text_set)))\n",
    "vca['text'] = text\n",
    "#vca['text'] = vca['labels'].fillna('').apply(lambda x: \" \".join(ast.literal_eval(x))) + \" \" + vca['labels2'].fillna('').apply(lambda x: \" \".join(ast.literal_eval(x)))\n",
    "vca[['labels','labels2','topics','text']].sample(5)"
   ]
  },
  {
   "cell_type": "code",
   "execution_count": 34,
   "metadata": {},
   "outputs": [
    {
     "name": "stdout",
     "output_type": "stream",
     "text": [
      "(9519, 12)\n",
      "video_id             9519\n",
      "new_id               9519\n",
      "creator_id           9519\n",
      "creator_name         9519\n",
      "sponsor_id           9515\n",
      "sponsor_name         9519\n",
      "title_description    9519\n",
      "topics               3754\n",
      "labels               9519\n",
      "labels2              9519\n",
      "transcript           4484\n",
      "text                 9519\n",
      "dtype: int64\n"
     ]
    }
   ],
   "source": [
    "print(vca.shape)\n",
    "print(vca.notnull().sum())"
   ]
  },
  {
   "cell_type": "code",
   "execution_count": 35,
   "metadata": {},
   "outputs": [
    {
     "name": "stderr",
     "output_type": "stream",
     "text": [
      "/home/doosti@chapman.edu/.conda/envs/gemeni/lib/python3.12/site-packages/numpy/_core/fromnumeric.py:57: FutureWarning: 'DataFrame.swapaxes' is deprecated and will be removed in a future version. Please use 'DataFrame.transpose' instead.\n",
      "  return bound(*args, **kwds)\n"
     ]
    },
    {
     "name": "stdout",
     "output_type": "stream",
     "text": [
      "Processing batch 1...\n"
     ]
    },
    {
     "name": "stderr",
     "output_type": "stream",
     "text": [
      "  0%|          | 0/501 [00:00<?, ?it/s]"
     ]
    },
    {
     "name": "stderr",
     "output_type": "stream",
     "text": [
      "100%|██████████| 501/501 [01:26<00:00,  5.80it/s]\n"
     ]
    },
    {
     "name": "stdout",
     "output_type": "stream",
     "text": [
      "Processing batch 2...\n"
     ]
    },
    {
     "name": "stderr",
     "output_type": "stream",
     "text": [
      "100%|██████████| 501/501 [01:25<00:00,  5.87it/s]\n"
     ]
    },
    {
     "name": "stdout",
     "output_type": "stream",
     "text": [
      "Processing batch 3...\n"
     ]
    },
    {
     "name": "stderr",
     "output_type": "stream",
     "text": [
      "100%|██████████| 501/501 [01:25<00:00,  5.84it/s]\n"
     ]
    },
    {
     "name": "stdout",
     "output_type": "stream",
     "text": [
      "Processing batch 4...\n"
     ]
    },
    {
     "name": "stderr",
     "output_type": "stream",
     "text": [
      "100%|██████████| 501/501 [01:25<00:00,  5.85it/s]\n"
     ]
    },
    {
     "name": "stdout",
     "output_type": "stream",
     "text": [
      "Processing batch 5...\n"
     ]
    },
    {
     "name": "stderr",
     "output_type": "stream",
     "text": [
      "100%|██████████| 501/501 [01:25<00:00,  5.84it/s]\n"
     ]
    },
    {
     "name": "stdout",
     "output_type": "stream",
     "text": [
      "Processing batch 6...\n"
     ]
    },
    {
     "name": "stderr",
     "output_type": "stream",
     "text": [
      "100%|██████████| 501/501 [01:25<00:00,  5.86it/s]\n"
     ]
    },
    {
     "name": "stdout",
     "output_type": "stream",
     "text": [
      "Processing batch 7...\n"
     ]
    },
    {
     "name": "stderr",
     "output_type": "stream",
     "text": [
      "100%|██████████| 501/501 [01:25<00:00,  5.88it/s]\n"
     ]
    },
    {
     "name": "stdout",
     "output_type": "stream",
     "text": [
      "Processing batch 8...\n"
     ]
    },
    {
     "name": "stderr",
     "output_type": "stream",
     "text": [
      "100%|██████████| 501/501 [01:25<00:00,  5.84it/s]\n"
     ]
    },
    {
     "name": "stdout",
     "output_type": "stream",
     "text": [
      "Processing batch 9...\n"
     ]
    },
    {
     "name": "stderr",
     "output_type": "stream",
     "text": [
      "100%|██████████| 501/501 [01:25<00:00,  5.87it/s]\n"
     ]
    },
    {
     "name": "stdout",
     "output_type": "stream",
     "text": [
      "Processing batch 10...\n"
     ]
    },
    {
     "name": "stderr",
     "output_type": "stream",
     "text": [
      "100%|██████████| 501/501 [01:25<00:00,  5.87it/s]\n"
     ]
    },
    {
     "name": "stdout",
     "output_type": "stream",
     "text": [
      "Processing batch 11...\n"
     ]
    },
    {
     "name": "stderr",
     "output_type": "stream",
     "text": [
      "100%|██████████| 501/501 [01:25<00:00,  5.87it/s]\n"
     ]
    },
    {
     "name": "stdout",
     "output_type": "stream",
     "text": [
      "Processing batch 12...\n"
     ]
    },
    {
     "name": "stderr",
     "output_type": "stream",
     "text": [
      "100%|██████████| 501/501 [01:25<00:00,  5.85it/s]\n"
     ]
    },
    {
     "name": "stdout",
     "output_type": "stream",
     "text": [
      "Processing batch 13...\n"
     ]
    },
    {
     "name": "stderr",
     "output_type": "stream",
     "text": [
      "100%|██████████| 501/501 [01:24<00:00,  5.90it/s]\n"
     ]
    },
    {
     "name": "stdout",
     "output_type": "stream",
     "text": [
      "Processing batch 14...\n"
     ]
    },
    {
     "name": "stderr",
     "output_type": "stream",
     "text": [
      "100%|██████████| 501/501 [01:25<00:00,  5.89it/s]\n"
     ]
    },
    {
     "name": "stdout",
     "output_type": "stream",
     "text": [
      "Processing batch 15...\n"
     ]
    },
    {
     "name": "stderr",
     "output_type": "stream",
     "text": [
      "100%|██████████| 501/501 [01:24<00:00,  5.90it/s]\n"
     ]
    },
    {
     "name": "stdout",
     "output_type": "stream",
     "text": [
      "Processing batch 16...\n"
     ]
    },
    {
     "name": "stderr",
     "output_type": "stream",
     "text": [
      "100%|██████████| 501/501 [01:25<00:00,  5.89it/s]\n"
     ]
    },
    {
     "name": "stdout",
     "output_type": "stream",
     "text": [
      "Processing batch 17...\n"
     ]
    },
    {
     "name": "stderr",
     "output_type": "stream",
     "text": [
      "100%|██████████| 501/501 [01:25<00:00,  5.86it/s]\n"
     ]
    },
    {
     "name": "stdout",
     "output_type": "stream",
     "text": [
      "Processing batch 18...\n"
     ]
    },
    {
     "name": "stderr",
     "output_type": "stream",
     "text": [
      "100%|██████████| 501/501 [01:25<00:00,  5.85it/s]\n"
     ]
    },
    {
     "name": "stdout",
     "output_type": "stream",
     "text": [
      "Processing batch 19...\n"
     ]
    },
    {
     "name": "stderr",
     "output_type": "stream",
     "text": [
      "100%|██████████| 501/501 [01:25<00:00,  5.86it/s]\n"
     ]
    }
   ],
   "source": [
    "batch_size = 500\n",
    "embeddings = []\n",
    "for i, batch in enumerate(np.array_split(vca, len(vca) // batch_size)):\n",
    "    print(f'Processing batch {i + 1}...')\n",
    "    embeddings.extend(create_embeddings(batch))\n",
    "\n",
    "# df = create_embeddings(data)\n",
    "# df.drop('index', axis=1, inplace=True)"
   ]
  },
  {
   "cell_type": "code",
   "execution_count": 36,
   "metadata": {},
   "outputs": [],
   "source": [
    "# save embeddings\n",
    "import pickle\n",
    "with open('/home/doosti@chapman.edu/projects/Facebook/top2vec/data/embeddings_vca.pkl', 'wb') as f:\n",
    "    pickle.dump(embeddings, f)"
   ]
  }
 ],
 "metadata": {
  "kernelspec": {
   "display_name": "gemeni",
   "language": "python",
   "name": "python3"
  },
  "language_info": {
   "codemirror_mode": {
    "name": "ipython",
    "version": 3
   },
   "file_extension": ".py",
   "mimetype": "text/x-python",
   "name": "python",
   "nbconvert_exporter": "python",
   "pygments_lexer": "ipython3",
   "version": "3.12.5"
  }
 },
 "nbformat": 4,
 "nbformat_minor": 2
}
